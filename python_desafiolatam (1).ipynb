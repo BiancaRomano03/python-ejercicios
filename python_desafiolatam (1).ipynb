{
 "cells": [
  {
   "cell_type": "markdown",
   "id": "14a10371-3e9a-4ef5-8b23-67f67ad8d881",
   "metadata": {},
   "source": [
    "## Ejercicio 1"
   ]
  },
  {
   "cell_type": "markdown",
   "id": "54aab488-b804-45fc-a698-c31a3b0f4736",
   "metadata": {},
   "source": [
    "#### Crea un programa que tome una cadena de texto y cuente la cantidad de veces que aparece cada palabra en la cadena. Utiliza un diccionario para almacenar los conteos."
   ]
  },
  {
   "cell_type": "code",
   "execution_count": 1,
   "id": "cc214934-f903-466e-a001-71d58826b92a",
   "metadata": {},
   "outputs": [],
   "source": [
    "import pandas as pd\n",
    "import numpy as pd"
   ]
  },
  {
   "cell_type": "code",
   "execution_count": 2,
   "id": "842635ed-2549-4bb2-9630-0018bf642c93",
   "metadata": {
    "scrolled": true
   },
   "outputs": [
    {
     "name": "stdin",
     "output_type": "stream",
     "text": [
      "Ingrese una cadena de texto: ChatGPT se lanzó el 30 de noviembre de 20222​ y ha llamado la atención por sus respuestas detalladas y articuladas. Sin embargo, numerosos estudios han demostrado que ChatGPT es propenso a errores fácticos y exhibe sesgos lingüísticos,3​ de género,4​ raciales5​ y políticos6​ en el contenido que genera. El servicio se lanzó inicialmente como gratuito para el público, con planes de monetizarlo más adelante. El 4 de diciembre, OpenAI calculaba que ChatGPT ya tenía más de un millón de usuarios.7​8​ El 14 de marzo de 2023 se lanzó GPT-4. El 6 de noviembre de 2023, OpenAI publicó que cien millones de personas utilizan ChatGPT semanalmente.\n"
     ]
    }
   ],
   "source": [
    "texto=str(input(\"Ingrese una cadena de texto:\"))"
   ]
  },
  {
   "cell_type": "code",
   "execution_count": 3,
   "id": "091a816e-080e-42d5-9255-61be508ed34a",
   "metadata": {},
   "outputs": [],
   "source": [
    "texto= \"ChatGPT se lanzó el 30 de noviembre de 20222​ y ha llamado la atención por sus respuestas detalladas y articuladas. Sin embargo, numerosos estudios han demostrado que ChatGPT es propenso a errores fácticos y exhibe sesgos lingüísticos,3​ de género,4​ raciales5​ y políticos6​ en el contenido que genera. El servicio se lanzó inicialmente como gratuito para el público, con planes de monetizarlo más adelante. El 4 de diciembre, OpenAI calculaba que ChatGPT ya tenía más de un millón de usuarios.7​8​ El 14 de marzo de 2023 se lanzó GPT-4. El 6 de noviembre de 2023, OpenAI publicó que cien millones de personas utilizan ChatGPT semanalmente.\""
   ]
  },
  {
   "cell_type": "code",
   "execution_count": 5,
   "id": "412fab9c-e3ac-4896-9b83-22aed29dbbae",
   "metadata": {
    "scrolled": true
   },
   "outputs": [
    {
     "name": "stdout",
     "output_type": "stream",
     "text": [
      "{'ChatGPT': 4, 'se': 6, 'lanzó': 3, 'el': 4, '30': 1, 'de': 15, 'noviembre': 2, '20222\\u200b': 1, 'y': 5, 'ha': 6, 'llamado': 1, 'la': 10, 'atención': 1, 'por': 1, 'sus': 1, 'respuestas': 1, 'detalladas': 1, 'articuladas.': 1, 'Sin': 1, 'embargo,': 1, 'numerosos': 1, 'estudios': 1, 'han': 1, 'demostrado': 1, 'que': 4, 'es': 9, 'propenso': 1, 'a': 45, 'errores': 1, 'fácticos': 1, 'exhibe': 1, 'sesgos': 1, 'lingüísticos,3\\u200b': 1, 'género,4\\u200b': 1, 'raciales5\\u200b': 1, 'políticos6\\u200b': 1, 'en': 11, 'contenido': 1, 'genera.': 1, 'El': 4, 'servicio': 1, 'inicialmente': 1, 'como': 1, 'gratuito': 1, 'para': 1, 'público,': 1, 'con': 2, 'planes': 1, 'monetizarlo': 1, 'más': 2, 'adelante.': 1, '4': 4, 'diciembre,': 1, 'OpenAI': 2, 'calculaba': 1, 'ya': 1, 'tenía': 1, 'un': 1, 'millón': 1, 'usuarios.7\\u200b8\\u200b': 1, '14': 1, 'marzo': 1, '2023': 2, 'GPT-4.': 1, '6': 2, '2023,': 1, 'publicó': 1, 'cien': 1, 'millones': 1, 'personas': 1, 'utilizan': 1, 'semanalmente.': 1}\n"
     ]
    }
   ],
   "source": [
    "conteo = {palabra: texto.count(palabra) for palabra in texto.split()}\n",
    "print(conteo)"
   ]
  },
  {
   "cell_type": "markdown",
   "id": "b985d073-32ca-45ef-ac4f-0324466e7be8",
   "metadata": {},
   "source": [
    "## Ejercicio 2"
   ]
  },
  {
   "cell_type": "markdown",
   "id": "65c3cac5-a174-4bbf-9037-f1d65ce4f1bf",
   "metadata": {},
   "source": [
    "#### El profesor quiere que practiquemos nuestras tablas de multiplicar. Para hacerlo, vamos a crear un programa que pregunte al usuario por un numero y muestre la tabla de multiplicar correspondiente. El programa seguira pidiendo numeros hasta que el usuario ingrese un numero negativo. "
   ]
  },
  {
   "cell_type": "code",
   "execution_count": 16,
   "id": "c3977bdb-34b2-4728-8286-c2b9229db4aa",
   "metadata": {
    "scrolled": true
   },
   "outputs": [
    {
     "name": "stdin",
     "output_type": "stream",
     "text": [
      "Ingresa un número (negativo para salir):  4\n"
     ]
    },
    {
     "name": "stdout",
     "output_type": "stream",
     "text": [
      "Tabla de multiplicar del 4:\n",
      "4 x 1 = 4\n",
      "4 x 2 = 8\n",
      "4 x 3 = 12\n",
      "4 x 4 = 16\n",
      "4 x 5 = 20\n",
      "4 x 6 = 24\n",
      "4 x 7 = 28\n",
      "4 x 8 = 32\n",
      "4 x 9 = 36\n",
      "4 x 10 = 40\n"
     ]
    }
   ],
   "source": [
    "while True:\n",
    "    num = int(input(\"Ingresa un número (negativo para salir): \"))\n",
    "    if num < 0:\n",
    "        print(\"Adiós, hasta la próxima!\")\n",
    "    break\n",
    "print(f\"Tabla de multiplicar del {num}:\")\n",
    "for i in range(1, 11):\n",
    "    print(f\"{num} x {i} = {num*i}\")"
   ]
  },
  {
   "cell_type": "markdown",
   "id": "fe0c2e3b-9c8d-4bd3-8ff4-e88cebc97f5c",
   "metadata": {},
   "source": [
    "## Ejercicio 3 "
   ]
  },
  {
   "cell_type": "markdown",
   "id": "bace8070-463a-4e65-9b7c-fafc7355d326",
   "metadata": {},
   "source": [
    "#### En una consulta médica se han registrado los datos de pacientes que han asistido a un examen general. Los datos se encuentran almacenados en una lista de diccionarios, donde cada diccionario representa los datos de un paciente y contiene las claves: ● nombre: el nombre del paciente. ● edad: la edad del paciente en años. ● peso: el peso del paciente en kilogramos ● altura: la altura del paciente en metros. ● temperatura: la temperatura corporal del paciente en grados Celsius. El médico desea saber cuál es el promedio de edad, peso, altura, presión y temperatura de los pacientes que han asistido a la consulta. ¿Podrás ayudarlo a obtener esta información?"
   ]
  },
  {
   "cell_type": "code",
   "execution_count": 17,
   "id": "2f0ee935-a5ec-4ef8-8f56-5209deb2a546",
   "metadata": {},
   "outputs": [],
   "source": [
    "pacientes=[{'nombre': 'Maria', 'edad':46, 'peso':76, 'altura':1.68, 'temperatura':36.0},{'nombre':'Juan', 'edad':29, 'peso':70, 'altura':1.71, 'temperatura':37.3}, {'nombre':'Rosa', 'edad':82, 'peso':80, 'altura':1.55, 'temperatura':36.3}]"
   ]
  },
  {
   "cell_type": "code",
   "execution_count": 18,
   "id": "bb7ea1ec-fe7c-4f1a-811d-4c33ba3454e1",
   "metadata": {},
   "outputs": [],
   "source": [
    "promedio_edad=sum([paciente['edad'] for paciente in pacientes])/ len(pacientes)\n",
    "promedio_peso=sum([paciente['peso'] for paciente in pacientes])/len(pacientes)\n",
    "promedio_altura=sum([paciente['altura'] for paciente in pacientes])/len(pacientes)\n",
    "promedio_temperatura=sum([paciente['temperatura'] for paciente in pacientes])/len(pacientes)"
   ]
  },
  {
   "cell_type": "code",
   "execution_count": 23,
   "id": "5005dc1a-f8ae-4422-83b8-a3de4ee97966",
   "metadata": {
    "scrolled": true
   },
   "outputs": [
    {
     "name": "stdout",
     "output_type": "stream",
     "text": [
      "El promedio de edad de los pacientes es: 52.333333333333336\n",
      "El promedio del peso de los pacientes es: 75.33333333333333\n",
      "El promedio de altura de los pacientes es:1.6466666666666665\n",
      "El promedio de temperatura de los pacientes es:36.53333333333333\n"
     ]
    }
   ],
   "source": [
    "print(f\"El promedio de edad de los pacientes es: {promedio_edad}\")\n",
    "print(f\"El promedio del peso de los pacientes es: {promedio_peso}\")\n",
    "print(f\"El promedio de altura de los pacientes es:{promedio_altura}\")\n",
    "print(f\"El promedio de temperatura de los pacientes es:{promedio_temperatura}\")"
   ]
  },
  {
   "cell_type": "markdown",
   "id": "e207248c-25d1-41c5-92a1-73d495c38bb9",
   "metadata": {},
   "source": [
    "## Ejercicio 4"
   ]
  },
  {
   "cell_type": "markdown",
   "id": "f2a5c9af-65f8-4f97-a20f-9ef6a3193337",
   "metadata": {},
   "source": [
    "#### Crea un programa interactivo que permita al usuario elegir su destino interplanetario favorito entre la Luna y Marte, y luego seleccionar entre dos emocionantes actividades: hacer una caminata espacial o pilotar un rover."
   ]
  },
  {
   "cell_type": "code",
   "execution_count": 6,
   "id": "7b011392-0dfe-483c-bb83-f9e44f053771",
   "metadata": {
    "scrolled": true
   },
   "outputs": [
    {
     "name": "stdin",
     "output_type": "stream",
     "text": [
      "Inserta tu destino interplanetario favorito: Luna\n",
      "¿Quieres hacer una caminata espacial o pilotear un rover? Pilotear un rover\n"
     ]
    },
    {
     "name": "stdout",
     "output_type": "stream",
     "text": [
      "¡Vamos a pilotear el rover en la luna!\n"
     ]
    }
   ],
   "source": [
    "destino_interplanetario=input(\"Inserta tu destino interplanetario favorito:\")\n",
    "\n",
    "if destino_interplanetario == \"Luna\":\n",
    "    actividad=input(\"¿Quieres hacer una caminata espacial o pilotear un rover?\")\n",
    "    if actividad==\"Caminata espacial\":\n",
    "        print(\"¡Preparate para poner un pie en la luna!\")\n",
    "    elif actividad==\"Pilotear un rover\":\n",
    "        print(\"¡Vamos a pilotear el rover en la luna!\")\n",
    "    else:\n",
    "        print(\"Lo siento, no entiendo esa actividad\")\n",
    "elif destino_interplanetario == \"Marte\":\n",
    "    actividad=input(\"¿Quieres hacer una caminata espacial o pilotear un rover?\")\n",
    "    if actividad==\"Caminata espacial\":\n",
    "        print(\"¡Preparate para pisar marte!\")\n",
    "    elif actividad==\"Pilotear un rover\":\n",
    "        print(\"¡Vamos a pilotear el rover en marte!\")\n",
    "    else:\n",
    "        print(\"Lo siento, no entiendo esa actividad\")\n",
    "else: \n",
    "    print(\"Lo siento, no entiendo esa actividad\")"
   ]
  }
 ],
 "metadata": {
  "kernelspec": {
   "display_name": "Python 3 (ipykernel)",
   "language": "python",
   "name": "python3"
  },
  "language_info": {
   "codemirror_mode": {
    "name": "ipython",
    "version": 3
   },
   "file_extension": ".py",
   "mimetype": "text/x-python",
   "name": "python",
   "nbconvert_exporter": "python",
   "pygments_lexer": "ipython3",
   "version": "3.11.5"
  }
 },
 "nbformat": 4,
 "nbformat_minor": 5
}
